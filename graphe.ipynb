{
 "cells": [
  {
   "cell_type": "code",
   "execution_count": 16,
   "metadata": {},
   "outputs": [
    {
     "name": "stdout",
     "output_type": "stream",
     "text": [
      "Matrice générée :\n",
      "\n",
      "[0, 8, 18, 15]\n",
      "[8, 0, 1, 20]\n",
      "[18, 1, 0, 8]\n",
      "[15, 20, 8, 0]\n"
     ]
    }
   ],
   "source": [
    "import random\n",
    "\n",
    "\n",
    "nb_sommets = 4  \n",
    "\n",
    "\n",
    "graphe = [[0]*nb_sommets for _ in range(nb_sommets)]\n",
    "\n",
    "\n",
    "for i in range(nb_sommets):\n",
    "    for j in range(i+1, nb_sommets):\n",
    "        poids = random.randint(1, 20)  \n",
    "        graphe[i][j] = poids\n",
    "        graphe[j][i] = poids  \n",
    "\n",
    "\n",
    "print(\"Matrice générée :\\n\")\n",
    "for ligne in graphe:\n",
    "    print(ligne)\n"
   ]
  },
  {
   "cell_type": "code",
   "execution_count": 17,
   "metadata": {},
   "outputs": [
    {
     "name": "stdout",
     "output_type": "stream",
     "text": [
      " Matrice enregistrée dans 'graphe_resultat.txt'\n"
     ]
    }
   ],
   "source": [
    "\n",
    "with open(\"graphe_resultat.txt\", \"w\") as fichier:\n",
    "    for ligne in graphe:\n",
    "        fichier.write(\" \".join(map(str, ligne)) + \"\\n\")\n",
    "\n",
    "print(\" Matrice enregistrée dans 'graphe_resultat.txt'\")\n"
   ]
  },
  {
   "cell_type": "code",
   "execution_count": 18,
   "metadata": {},
   "outputs": [
    {
     "name": "stdout",
     "output_type": "stream",
     "text": [
      "Matrice lue depuis le fichier :\n",
      "\n",
      "[0, 8, 18, 15]\n",
      "[8, 0, 1, 20]\n",
      "[18, 1, 0, 8]\n",
      "[15, 20, 8, 0]\n"
     ]
    }
   ],
   "source": [
    "\n",
    "def lire_graphe(fichier):\n",
    "    with open(fichier, \"r\") as f:\n",
    "        graphe_lu = [list(map(int, ligne.strip().split())) for ligne in f]\n",
    "    return graphe_lu\n",
    "\n",
    "\n",
    "graphe_lu = lire_graphe(\"graphe_resultat.txt\")\n",
    "\n",
    "\n",
    "print(\"Matrice lue depuis le fichier :\\n\")\n",
    "for ligne in graphe_lu:\n",
    "    print(ligne)\n"
   ]
  },
  {
   "cell_type": "code",
   "execution_count": 19,
   "metadata": {},
   "outputs": [],
   "source": [
    "\n",
    "def arbre_couvrant_minimal(graphe):\n",
    "    nb_sommets = len(graphe)\n",
    "    parent = list(range(nb_sommets))\n",
    "\n",
    "    def trouver_representant(x):\n",
    "        while parent[x] != x:\n",
    "            parent[x] = parent[parent[x]]  \n",
    "            x = parent[x]\n",
    "        return x\n",
    "\n",
    "    \n",
    "    def fusionner(x, y):\n",
    "        rep_x = trouver_representant(x)\n",
    "        rep_y = trouver_representant(y)\n",
    "        if rep_x == rep_y:\n",
    "            return False\n",
    "        parent[rep_y] = rep_x\n",
    "        return True\n",
    "\n",
    "\n",
    "    arêtes = []\n",
    "    for i in range(nb_sommets):\n",
    "        for j in range(i+1, nb_sommets):\n",
    "            arêtes.append((graphe[i][j], i, j))\n",
    "\n",
    "\n",
    "    arêtes.sort()\n",
    "    arbre = []\n",
    "    cout_total = 0\n",
    "\n",
    "    for poids, sommet_u, sommet_v in arêtes:\n",
    "        if fusionner(sommet_u, sommet_v):\n",
    "            arbre.append((sommet_u, sommet_v, poids))\n",
    "            cout_total += poids\n",
    "            if len(arbre) == nb_sommets - 1:\n",
    "                break\n",
    "\n",
    "    return arbre, cout_total\n"
   ]
  },
  {
   "cell_type": "code",
   "execution_count": 20,
   "metadata": {},
   "outputs": [
    {
     "name": "stdout",
     "output_type": "stream",
     "text": [
      "\n",
      " Arbre couvrant minimal  :\n",
      "(1, 2)\n",
      "(0, 1)\n",
      "(2, 3)\n",
      "\n",
      " Coût total  = 17\n"
     ]
    }
   ],
   "source": [
    "\n",
    "arbre_resultat, cout = arbre_couvrant_minimal(graphe_lu)\n",
    "\n",
    "\n",
    "print(\"\\n Arbre couvrant minimal  :\")\n",
    "for sommet_u, sommet_v, poids in arbre_resultat:\n",
    "    print(f\"({sommet_u}, {sommet_v})\")\n",
    "\n",
    "print(f\"\\n Coût total  = {cout}\")\n"
   ]
  }
 ],
 "metadata": {
  "kernelspec": {
   "display_name": "Python 3",
   "language": "python",
   "name": "python3"
  },
  "language_info": {
   "codemirror_mode": {
    "name": "ipython",
    "version": 3
   },
   "file_extension": ".py",
   "mimetype": "text/x-python",
   "name": "python",
   "nbconvert_exporter": "python",
   "pygments_lexer": "ipython3",
   "version": "3.13.2"
  }
 },
 "nbformat": 4,
 "nbformat_minor": 2
}
